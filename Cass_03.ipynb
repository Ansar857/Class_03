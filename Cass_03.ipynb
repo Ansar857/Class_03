{
 "cells": [
  {
   "cell_type": "markdown",
   "metadata": {},
   "source": [
    "\n",
    "# Class_03"
   ]
  },
  {
   "cell_type": "code",
   "execution_count": 62,
   "metadata": {},
   "outputs": [],
   "source": [
    "class user:\n",
    "    def __init__(self,first_name,login_attempts,last_name = \"\",*other_info):\n",
    "        self.first_name = first_name\n",
    "        self.last_name = last_name\n",
    "        self.other_info = other_info\n",
    "        self.login_attempts = 0\n",
    "    def describe_user(self):\n",
    "        full_name = self.first_name + \" \" + self.last_name\n",
    "        print(\"user name is \" , full_name , self.other_info)\n",
    "    def greet_user(self):\n",
    "        full_name = self.first_name + \" \" + self.last_name\n",
    "        print(\"Hi\" , full_name , \"How are you!\")\n",
    "    def increminent_in_login_attempts(self,attempts):\n",
    "        self.login_attempts= attempts\n",
    "        if attempts > 3:\n",
    "            print(\"you can't login you neeed to reset your login attempts\")\n",
    "            \n",
    "        else:\n",
    "            print(\"Please try again\")\n",
    "            \n",
    "            \n",
    "        \n",
    "    def reset_login_attempts(self):\n",
    "        self.login_attempts = 0"
   ]
  },
  {
   "cell_type": "code",
   "execution_count": 63,
   "metadata": {},
   "outputs": [],
   "source": [
    "user_01  = user(\"ANSAR\",\"ILYAS\")"
   ]
  },
  {
   "cell_type": "code",
   "execution_count": 64,
   "metadata": {},
   "outputs": [
    {
     "data": {
      "text/plain": [
       "0"
      ]
     },
     "execution_count": 64,
     "metadata": {},
     "output_type": "execute_result"
    }
   ],
   "source": [
    "user_01.login_attempts"
   ]
  },
  {
   "cell_type": "code",
   "execution_count": 65,
   "metadata": {},
   "outputs": [
    {
     "name": "stdout",
     "output_type": "stream",
     "text": [
      "you can't login you neeed to reset your login attempts\n"
     ]
    }
   ],
   "source": [
    "user_01.increminent_in_login_attempts(4)"
   ]
  },
  {
   "cell_type": "code",
   "execution_count": 66,
   "metadata": {},
   "outputs": [
    {
     "data": {
      "text/plain": [
       "4"
      ]
     },
     "execution_count": 66,
     "metadata": {},
     "output_type": "execute_result"
    }
   ],
   "source": [
    "user_01.login_attempts"
   ]
  },
  {
   "cell_type": "code",
   "execution_count": 68,
   "metadata": {},
   "outputs": [],
   "source": [
    "user_01.reset_login_attempts()"
   ]
  },
  {
   "cell_type": "code",
   "execution_count": 69,
   "metadata": {},
   "outputs": [
    {
     "data": {
      "text/plain": [
       "0"
      ]
     },
     "execution_count": 69,
     "metadata": {},
     "output_type": "execute_result"
    }
   ],
   "source": [
    "user_01.login_attempts"
   ]
  },
  {
   "cell_type": "code",
   "execution_count": null,
   "metadata": {},
   "outputs": [],
   "source": []
  }
 ],
 "metadata": {
  "kernelspec": {
   "display_name": "Python 3",
   "language": "python",
   "name": "python3"
  },
  "language_info": {
   "codemirror_mode": {
    "name": "ipython",
    "version": 3
   },
   "file_extension": ".py",
   "mimetype": "text/x-python",
   "name": "python",
   "nbconvert_exporter": "python",
   "pygments_lexer": "ipython3",
   "version": "3.7.6"
  }
 },
 "nbformat": 4,
 "nbformat_minor": 4
}
